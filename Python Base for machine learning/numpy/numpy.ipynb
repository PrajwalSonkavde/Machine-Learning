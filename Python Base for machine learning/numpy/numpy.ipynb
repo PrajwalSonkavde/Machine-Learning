{
 "cells": [
  {
   "cell_type": "markdown",
   "id": "49ad1294",
   "metadata": {},
   "source": [
    "import"
   ]
  },
  {
   "cell_type": "code",
   "execution_count": 1,
   "id": "9fa529b2",
   "metadata": {},
   "outputs": [],
   "source": [
    "import numpy as np"
   ]
  },
  {
   "cell_type": "code",
   "execution_count": 2,
   "id": "2a57a58f",
   "metadata": {},
   "outputs": [],
   "source": [
    "my_lst=[1,2,3,4,5]"
   ]
  },
  {
   "cell_type": "markdown",
   "id": "ec22912a",
   "metadata": {},
   "source": [
    "creating one dimensional array"
   ]
  },
  {
   "cell_type": "code",
   "execution_count": 3,
   "id": "74e079c0",
   "metadata": {},
   "outputs": [],
   "source": [
    "arr=np.array(my_lst)"
   ]
  },
  {
   "cell_type": "code",
   "execution_count": 4,
   "id": "617dd10d",
   "metadata": {},
   "outputs": [
    {
     "name": "stdout",
     "output_type": "stream",
     "text": [
      "[1 2 3 4 5]\n"
     ]
    }
   ],
   "source": [
    "print(arr)"
   ]
  },
  {
   "cell_type": "code",
   "execution_count": 5,
   "id": "0f32b609",
   "metadata": {},
   "outputs": [],
   "source": [
    "mylst1=[6,7,8,9,10]"
   ]
  },
  {
   "cell_type": "code",
   "execution_count": 6,
   "id": "58ff3a91",
   "metadata": {},
   "outputs": [],
   "source": [
    "mylst2=[11,12,13,14,15]"
   ]
  },
  {
   "cell_type": "markdown",
   "id": "6bea121d",
   "metadata": {},
   "source": [
    "creating multidimensional array"
   ]
  },
  {
   "cell_type": "code",
   "execution_count": 8,
   "id": "340a7d03",
   "metadata": {},
   "outputs": [],
   "source": [
    "arr1=np.array([my_lst,mylst1,mylst2])"
   ]
  },
  {
   "cell_type": "code",
   "execution_count": 9,
   "id": "cca12f97",
   "metadata": {
    "scrolled": true
   },
   "outputs": [
    {
     "name": "stdout",
     "output_type": "stream",
     "text": [
      "[[ 1  2  3  4  5]\n",
      " [ 6  7  8  9 10]\n",
      " [11 12 13 14 15]]\n"
     ]
    }
   ],
   "source": [
    "print(arr1)"
   ]
  },
  {
   "cell_type": "markdown",
   "id": "e142c6f3",
   "metadata": {},
   "source": [
    "shape and reshape"
   ]
  },
  {
   "cell_type": "code",
   "execution_count": 11,
   "id": "17ae5858",
   "metadata": {},
   "outputs": [
    {
     "data": {
      "text/plain": [
       "array([[ 1,  2,  3],\n",
       "       [ 4,  5,  6],\n",
       "       [ 7,  8,  9],\n",
       "       [10, 11, 12],\n",
       "       [13, 14, 15]])"
      ]
     },
     "execution_count": 11,
     "metadata": {},
     "output_type": "execute_result"
    }
   ],
   "source": [
    "arr1.reshape(5,3)"
   ]
  },
  {
   "cell_type": "code",
   "execution_count": 12,
   "id": "d9fbadac",
   "metadata": {},
   "outputs": [
    {
     "data": {
      "text/plain": [
       "(5,)"
      ]
     },
     "execution_count": 12,
     "metadata": {},
     "output_type": "execute_result"
    }
   ],
   "source": [
    "arr.shape"
   ]
  },
  {
   "cell_type": "code",
   "execution_count": 13,
   "id": "88ced5e8",
   "metadata": {},
   "outputs": [
    {
     "data": {
      "text/plain": [
       "(3, 5)"
      ]
     },
     "execution_count": 13,
     "metadata": {},
     "output_type": "execute_result"
    }
   ],
   "source": [
    "arr1.shape"
   ]
  },
  {
   "cell_type": "markdown",
   "id": "90116df6",
   "metadata": {},
   "source": [
    "accessing"
   ]
  },
  {
   "cell_type": "code",
   "execution_count": 15,
   "id": "38ab30e2",
   "metadata": {},
   "outputs": [
    {
     "data": {
      "text/plain": [
       "3"
      ]
     },
     "execution_count": 15,
     "metadata": {},
     "output_type": "execute_result"
    }
   ],
   "source": [
    "arr[2]"
   ]
  },
  {
   "cell_type": "code",
   "execution_count": 16,
   "id": "4d82a2a4",
   "metadata": {},
   "outputs": [
    {
     "data": {
      "text/plain": [
       "12"
      ]
     },
     "execution_count": 16,
     "metadata": {},
     "output_type": "execute_result"
    }
   ],
   "source": [
    "arr1[2,1]"
   ]
  },
  {
   "cell_type": "code",
   "execution_count": 17,
   "id": "e08b6bdb",
   "metadata": {},
   "outputs": [
    {
     "data": {
      "text/plain": [
       "array([[ 1,  2,  3,  4,  5],\n",
       "       [ 6,  7,  8,  9, 10],\n",
       "       [11, 12, 13, 14, 15]])"
      ]
     },
     "execution_count": 17,
     "metadata": {},
     "output_type": "execute_result"
    }
   ],
   "source": [
    "arr1[:,:]"
   ]
  },
  {
   "cell_type": "code",
   "execution_count": 18,
   "id": "b8dc7b84",
   "metadata": {},
   "outputs": [
    {
     "data": {
      "text/plain": [
       "array([[ 4,  5],\n",
       "       [ 9, 10],\n",
       "       [14, 15]])"
      ]
     },
     "execution_count": 18,
     "metadata": {},
     "output_type": "execute_result"
    }
   ],
   "source": [
    "arr1[:,3:]"
   ]
  },
  {
   "cell_type": "code",
   "execution_count": 19,
   "id": "cae9a5bf",
   "metadata": {},
   "outputs": [
    {
     "data": {
      "text/plain": [
       "array([ 6,  7,  8,  9, 10])"
      ]
     },
     "execution_count": 19,
     "metadata": {},
     "output_type": "execute_result"
    }
   ],
   "source": [
    "arr1[1,:]"
   ]
  },
  {
   "cell_type": "code",
   "execution_count": 20,
   "id": "f465c73a",
   "metadata": {},
   "outputs": [
    {
     "data": {
      "text/plain": [
       "array([[ 6,  7,  8,  9, 10],\n",
       "       [11, 12, 13, 14, 15]])"
      ]
     },
     "execution_count": 20,
     "metadata": {},
     "output_type": "execute_result"
    }
   ],
   "source": [
    "arr1[1:,:]"
   ]
  },
  {
   "cell_type": "code",
   "execution_count": 23,
   "id": "ab352574",
   "metadata": {},
   "outputs": [
    {
     "data": {
      "text/plain": [
       "array([[9]])"
      ]
     },
     "execution_count": 23,
     "metadata": {},
     "output_type": "execute_result"
    }
   ],
   "source": [
    "arr1[1:2,3:4]"
   ]
  },
  {
   "cell_type": "code",
   "execution_count": 29,
   "id": "3f7f8644",
   "metadata": {
    "scrolled": true
   },
   "outputs": [
    {
     "data": {
      "text/plain": [
       "array([[ 8,  9, 10],\n",
       "       [13, 14, 15]])"
      ]
     },
     "execution_count": 29,
     "metadata": {},
     "output_type": "execute_result"
    }
   ],
   "source": [
    "arr1[1:3,2:5]"
   ]
  },
  {
   "cell_type": "markdown",
   "id": "88b7ccb7",
   "metadata": {},
   "source": [
    "arrange"
   ]
  },
  {
   "cell_type": "code",
   "execution_count": 31,
   "id": "acac8cea",
   "metadata": {},
   "outputs": [],
   "source": [
    "arrange=np.arange(0,10)"
   ]
  },
  {
   "cell_type": "code",
   "execution_count": 32,
   "id": "10fc9026",
   "metadata": {},
   "outputs": [
    {
     "name": "stdout",
     "output_type": "stream",
     "text": [
      "[0 1 2 3 4 5 6 7 8 9]\n"
     ]
    }
   ],
   "source": [
    "print(arrange)"
   ]
  },
  {
   "cell_type": "code",
   "execution_count": 33,
   "id": "84153b1e",
   "metadata": {},
   "outputs": [],
   "source": [
    "arrange1=np.arange(0,10,2)"
   ]
  },
  {
   "cell_type": "code",
   "execution_count": 34,
   "id": "e3db866c",
   "metadata": {},
   "outputs": [
    {
     "name": "stdout",
     "output_type": "stream",
     "text": [
      "[0 2 4 6 8]\n"
     ]
    }
   ],
   "source": [
    "print(arrange1)"
   ]
  },
  {
   "cell_type": "markdown",
   "id": "1ba32084",
   "metadata": {},
   "source": [
    "linespace"
   ]
  },
  {
   "cell_type": "code",
   "execution_count": 35,
   "id": "12337a4c",
   "metadata": {},
   "outputs": [],
   "source": [
    "ls=np.linspace(1,10,50)"
   ]
  },
  {
   "cell_type": "code",
   "execution_count": 36,
   "id": "7e509573",
   "metadata": {},
   "outputs": [
    {
     "name": "stdout",
     "output_type": "stream",
     "text": [
      "[ 1.          1.18367347  1.36734694  1.55102041  1.73469388  1.91836735\n",
      "  2.10204082  2.28571429  2.46938776  2.65306122  2.83673469  3.02040816\n",
      "  3.20408163  3.3877551   3.57142857  3.75510204  3.93877551  4.12244898\n",
      "  4.30612245  4.48979592  4.67346939  4.85714286  5.04081633  5.2244898\n",
      "  5.40816327  5.59183673  5.7755102   5.95918367  6.14285714  6.32653061\n",
      "  6.51020408  6.69387755  6.87755102  7.06122449  7.24489796  7.42857143\n",
      "  7.6122449   7.79591837  7.97959184  8.16326531  8.34693878  8.53061224\n",
      "  8.71428571  8.89795918  9.08163265  9.26530612  9.44897959  9.63265306\n",
      "  9.81632653 10.        ]\n"
     ]
    }
   ],
   "source": [
    "print(ls)"
   ]
  },
  {
   "cell_type": "code",
   "execution_count": 37,
   "id": "613bf8d8",
   "metadata": {},
   "outputs": [
    {
     "data": {
      "text/plain": [
       "1.183673469387755"
      ]
     },
     "execution_count": 37,
     "metadata": {},
     "output_type": "execute_result"
    }
   ],
   "source": [
    "ls[1]"
   ]
  },
  {
   "cell_type": "code",
   "execution_count": 38,
   "id": "2fbf0819",
   "metadata": {},
   "outputs": [
    {
     "data": {
      "text/plain": [
       "-0.18367346938775508"
      ]
     },
     "execution_count": 38,
     "metadata": {},
     "output_type": "execute_result"
    }
   ],
   "source": [
    "ls[1]-ls[2]"
   ]
  },
  {
   "cell_type": "code",
   "execution_count": 39,
   "id": "b00633de",
   "metadata": {},
   "outputs": [
    {
     "data": {
      "text/plain": [
       "-0.18367346938775508"
      ]
     },
     "execution_count": 39,
     "metadata": {},
     "output_type": "execute_result"
    }
   ],
   "source": [
    "ls[2]-ls[3]"
   ]
  },
  {
   "cell_type": "markdown",
   "id": "8abba1b1",
   "metadata": {},
   "source": [
    "boradcasting"
   ]
  },
  {
   "cell_type": "code",
   "execution_count": 40,
   "id": "495698a1",
   "metadata": {},
   "outputs": [],
   "source": [
    "arrange[3:]=100"
   ]
  },
  {
   "cell_type": "code",
   "execution_count": 41,
   "id": "2e38fc29",
   "metadata": {},
   "outputs": [
    {
     "name": "stdout",
     "output_type": "stream",
     "text": [
      "[  0   1   2 100 100 100 100 100 100 100]\n"
     ]
    }
   ],
   "source": [
    "print(arrange)"
   ]
  },
  {
   "cell_type": "markdown",
   "id": "85cb5625",
   "metadata": {},
   "source": [
    "copy and reference"
   ]
  },
  {
   "cell_type": "code",
   "execution_count": 43,
   "id": "f8402754",
   "metadata": {},
   "outputs": [],
   "source": [
    "arrcopy=arr"
   ]
  },
  {
   "cell_type": "code",
   "execution_count": 44,
   "id": "7abf8544",
   "metadata": {},
   "outputs": [
    {
     "name": "stdout",
     "output_type": "stream",
     "text": [
      "[1 2 3 4 5]\n"
     ]
    }
   ],
   "source": [
    "print(arr)"
   ]
  },
  {
   "cell_type": "code",
   "execution_count": 45,
   "id": "2ccf7e1f",
   "metadata": {},
   "outputs": [],
   "source": [
    "arrcopy[1:100]=500"
   ]
  },
  {
   "cell_type": "code",
   "execution_count": 46,
   "id": "d92fb8f2",
   "metadata": {},
   "outputs": [
    {
     "name": "stdout",
     "output_type": "stream",
     "text": [
      "[  1 500 500 500 500] [  1 500 500 500 500]\n"
     ]
    }
   ],
   "source": [
    "print(arr,arrcopy)"
   ]
  },
  {
   "cell_type": "code",
   "execution_count": 47,
   "id": "8ce1e0ea",
   "metadata": {},
   "outputs": [],
   "source": [
    "arrcopy=arr.copy()"
   ]
  },
  {
   "cell_type": "code",
   "execution_count": 48,
   "id": "eb25aa5c",
   "metadata": {},
   "outputs": [],
   "source": [
    "arrcopy[3:]=888"
   ]
  },
  {
   "cell_type": "code",
   "execution_count": 50,
   "id": "cea4c761",
   "metadata": {},
   "outputs": [
    {
     "name": "stdout",
     "output_type": "stream",
     "text": [
      "[  1 500 500 500 500] [  1 500 500 888 888]\n"
     ]
    }
   ],
   "source": [
    "print(arr,arrcopy)"
   ]
  },
  {
   "cell_type": "markdown",
   "id": "fb708bd7",
   "metadata": {},
   "source": [
    "EDA"
   ]
  },
  {
   "cell_type": "code",
   "execution_count": 51,
   "id": "43c06fe0",
   "metadata": {},
   "outputs": [],
   "source": [
    "val=2"
   ]
  },
  {
   "cell_type": "code",
   "execution_count": 52,
   "id": "6f692c06",
   "metadata": {},
   "outputs": [
    {
     "data": {
      "text/plain": [
       "array([ True, False, False, False, False])"
      ]
     },
     "execution_count": 52,
     "metadata": {},
     "output_type": "execute_result"
    }
   ],
   "source": [
    "arr < val"
   ]
  },
  {
   "cell_type": "code",
   "execution_count": 53,
   "id": "19827358",
   "metadata": {},
   "outputs": [
    {
     "name": "stdout",
     "output_type": "stream",
     "text": [
      "[1]\n"
     ]
    }
   ],
   "source": [
    "print(arr[arr<val])"
   ]
  },
  {
   "cell_type": "code",
   "execution_count": 54,
   "id": "3802c72f",
   "metadata": {},
   "outputs": [
    {
     "data": {
      "text/plain": [
       "array([   2, 1000, 1000, 1000, 1000])"
      ]
     },
     "execution_count": 54,
     "metadata": {},
     "output_type": "execute_result"
    }
   ],
   "source": [
    "arr*2"
   ]
  },
  {
   "cell_type": "markdown",
   "id": "770a3ef0",
   "metadata": {},
   "source": [
    "ones "
   ]
  },
  {
   "cell_type": "code",
   "execution_count": 57,
   "id": "6c6d6dae",
   "metadata": {},
   "outputs": [
    {
     "data": {
      "text/plain": [
       "array([1., 1., 1., 1.])"
      ]
     },
     "execution_count": 57,
     "metadata": {},
     "output_type": "execute_result"
    }
   ],
   "source": [
    "np.ones(4)"
   ]
  },
  {
   "cell_type": "code",
   "execution_count": 58,
   "id": "b361f127",
   "metadata": {},
   "outputs": [
    {
     "data": {
      "text/plain": [
       "array([1, 1, 1, 1])"
      ]
     },
     "execution_count": 58,
     "metadata": {},
     "output_type": "execute_result"
    }
   ],
   "source": [
    "np.ones(4,dtype=int)"
   ]
  },
  {
   "cell_type": "code",
   "execution_count": 59,
   "id": "909d19c6",
   "metadata": {},
   "outputs": [
    {
     "data": {
      "text/plain": [
       "array([[1, 1, 1, 1, 1],\n",
       "       [1, 1, 1, 1, 1]])"
      ]
     },
     "execution_count": 59,
     "metadata": {},
     "output_type": "execute_result"
    }
   ],
   "source": [
    "np.ones((2,5),dtype=int)"
   ]
  },
  {
   "cell_type": "markdown",
   "id": "1864c21e",
   "metadata": {},
   "source": [
    "random distribution"
   ]
  },
  {
   "cell_type": "code",
   "execution_count": 60,
   "id": "d5307637",
   "metadata": {},
   "outputs": [
    {
     "data": {
      "text/plain": [
       "array([[0.67370661, 0.69913123, 0.83514075],\n",
       "       [0.98908684, 0.43262811, 0.85286041],\n",
       "       [0.13580093, 0.82176665, 0.3667537 ]])"
      ]
     },
     "execution_count": 60,
     "metadata": {},
     "output_type": "execute_result"
    }
   ],
   "source": [
    "np.random.rand(3,3)"
   ]
  },
  {
   "cell_type": "markdown",
   "id": "fea354f7",
   "metadata": {},
   "source": [
    "standard normal distribution"
   ]
  },
  {
   "cell_type": "code",
   "execution_count": 61,
   "id": "98aef964",
   "metadata": {},
   "outputs": [
    {
     "data": {
      "text/plain": [
       "array([[ 1.02119086,  1.56148176,  0.56188034, -0.51669156],\n",
       "       [-1.44614426, -1.34652566,  0.06395369, -0.46144357],\n",
       "       [ 1.97079606, -1.17805582, -0.70020264, -0.81203269],\n",
       "       [ 0.62536363,  1.12546612, -1.34535998,  0.9684519 ]])"
      ]
     },
     "execution_count": 61,
     "metadata": {},
     "output_type": "execute_result"
    }
   ],
   "source": [
    "np.random.randn(4,4)"
   ]
  },
  {
   "cell_type": "markdown",
   "id": "65f690b1",
   "metadata": {},
   "source": [
    "randint"
   ]
  },
  {
   "cell_type": "code",
   "execution_count": 62,
   "id": "078d8234",
   "metadata": {},
   "outputs": [
    {
     "data": {
      "text/plain": [
       "array([47, 56, 32, 23, 38, 29, 29,  4])"
      ]
     },
     "execution_count": 62,
     "metadata": {},
     "output_type": "execute_result"
    }
   ],
   "source": [
    "np.random.randint(0,100,8)"
   ]
  },
  {
   "cell_type": "code",
   "execution_count": 64,
   "id": "cc0f837d",
   "metadata": {},
   "outputs": [
    {
     "data": {
      "text/plain": [
       "(8,)"
      ]
     },
     "execution_count": 64,
     "metadata": {},
     "output_type": "execute_result"
    }
   ],
   "source": [
    "np.random.randint(0,100,8).shape"
   ]
  },
  {
   "cell_type": "code",
   "execution_count": 65,
   "id": "a5fc4e98",
   "metadata": {},
   "outputs": [
    {
     "data": {
      "text/plain": [
       "array([[71, 38],\n",
       "       [20, 64],\n",
       "       [48, 49],\n",
       "       [51, 24]])"
      ]
     },
     "execution_count": 65,
     "metadata": {},
     "output_type": "execute_result"
    }
   ],
   "source": [
    "np.random.randint(0,100,8).reshape(4,2)"
   ]
  },
  {
   "cell_type": "markdown",
   "id": "6e9ea80e",
   "metadata": {},
   "source": [
    "random sample"
   ]
  },
  {
   "cell_type": "code",
   "execution_count": 66,
   "id": "b716a345",
   "metadata": {},
   "outputs": [
    {
     "data": {
      "text/plain": [
       "array([[0.59203416, 0.40691289, 0.7843937 ],\n",
       "       [0.01334122, 0.4219363 , 0.39468428]])"
      ]
     },
     "execution_count": 66,
     "metadata": {},
     "output_type": "execute_result"
    }
   ],
   "source": [
    "np.random.random_sample((2,3))"
   ]
  },
  {
   "cell_type": "code",
   "execution_count": null,
   "id": "3cdd71f9",
   "metadata": {},
   "outputs": [],
   "source": []
  }
 ],
 "metadata": {
  "kernelspec": {
   "display_name": "Python 3 (ipykernel)",
   "language": "python",
   "name": "python3"
  },
  "language_info": {
   "codemirror_mode": {
    "name": "ipython",
    "version": 3
   },
   "file_extension": ".py",
   "mimetype": "text/x-python",
   "name": "python",
   "nbconvert_exporter": "python",
   "pygments_lexer": "ipython3",
   "version": "3.9.12"
  }
 },
 "nbformat": 4,
 "nbformat_minor": 5
}
